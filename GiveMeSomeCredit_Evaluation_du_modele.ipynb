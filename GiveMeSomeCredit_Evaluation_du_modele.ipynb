{
 "cells": [
  {
   "cell_type": "markdown",
   "metadata": {},
   "source": [
    "# <center> Evaluation du modèle </center>"
   ]
  },
  {
   "cell_type": "code",
   "execution_count": null,
   "metadata": {},
   "outputs": [],
   "source": [
    "from bigml.api import BigML\n",
    "from pandas import read_csv\n",
    "import matplotlib.pyplot as plt\n",
    "import pandas as pd"
   ]
  },
  {
   "cell_type": "code",
   "execution_count": null,
   "metadata": {
    "scrolled": true
   },
   "outputs": [],
   "source": [
    "df = read_csv('../handson-ml2/my_predictionsValEnsemble.csv')\n",
    "df = df.rename(columns={\"SeriousDlqin2yrs.1\":\"MyPrediction\"})\n",
    "df = df.drop(columns={\"field1\"})\n",
    "df"
   ]
  },
  {
   "cell_type": "code",
   "execution_count": null,
   "metadata": {
    "scrolled": true
   },
   "outputs": [],
   "source": [
    "data = read_csv('../handson-ml2/my_predictionsValDeepnet.csv')\n",
    "data = data.rename(columns={\"SeriousDlqin2yrs.1\":\"MyPrediction\"})\n",
    "data = data.drop(columns={\"field1\"})\n",
    "data"
   ]
  },
  {
   "cell_type": "markdown",
   "metadata": {},
   "source": [
    "## Première étape: identifier les erreurs pour évaluer notre modèle"
   ]
  },
  {
   "cell_type": "code",
   "execution_count": null,
   "metadata": {},
   "outputs": [],
   "source": [
    "TN = 0\n",
    "TP = 0\n",
    "FN = 0\n",
    "FP = 0\n",
    "\n",
    "serie = df.transpose() # here we convert the DataFrame into a Serie\n",
    "for ligne in serie:\n",
    "    if(serie[ligne]['SeriousDlqin2yrs'] == 0 and serie[ligne]['MyPrediction'] == 0):\n",
    "             TN = TN + 1\n",
    "            \n",
    "    if(serie[ligne]['SeriousDlqin2yrs'] == 1 and serie[ligne]['MyPrediction'] == 1):\n",
    "             TP = TP + 1\n",
    "\n",
    "    if(serie[ligne]['SeriousDlqin2yrs'] == 1 and serie[ligne]['MyPrediction'] == 0):\n",
    "             FN = FN + 1\n",
    "\n",
    "    if(serie[ligne]['SeriousDlqin2yrs'] == 0 and serie[ligne]['MyPrediction'] == 1):\n",
    "             FP = FP + 1\n",
    "            \n",
    "print(f\"TN : {TN}\")\n",
    "print(f\"TP : {TP}\")\n",
    "print(f\"FN : {FN}\")\n",
    "print(f\"FP : {FP}\")"
   ]
  },
  {
   "cell_type": "markdown",
   "metadata": {},
   "source": [
    "*<center> Ajouter une colonne erreur contenant les TN,FN, TP, FP</center>*"
   ]
  },
  {
   "cell_type": "code",
   "execution_count": null,
   "metadata": {},
   "outputs": [],
   "source": [
    "def confusion(row):\n",
    "    if row['SeriousDlqin2yrs'] == 0 and row['MyPrediction'] == 0:\n",
    "        error_value = 'TN'\n",
    "    if row['SeriousDlqin2yrs'] == 1 and row['MyPrediction'] == 1:\n",
    "        error_value = 'TP'\n",
    "    if row['SeriousDlqin2yrs'] == 1 and row['MyPrediction'] == 0:\n",
    "        error_value = 'FN'\n",
    "    if row['SeriousDlqin2yrs'] == 0 and row['MyPrediction'] == 1:\n",
    "        error_value = 'FP'\n",
    "    return error_value\n",
    "\n",
    "df['error'] = df.apply(confusion, axis = 1)\n",
    "df.to_csv('../handson-ml2/kaggle-give-me-credit-Ensemble_confusion.csv', index=False)"
   ]
  },
  {
   "cell_type": "code",
   "execution_count": null,
   "metadata": {
    "scrolled": true
   },
   "outputs": [],
   "source": [
    "df = read_csv('../handson-ml2/kaggle-give-me-credit-Ensemble_confusion.csv')\n",
    "df"
   ]
  },
  {
   "cell_type": "code",
   "execution_count": null,
   "metadata": {},
   "outputs": [],
   "source": [
    "def confusion(row):\n",
    "    if row['SeriousDlqin2yrs'] == 0 and row['MyPrediction'] == 0:\n",
    "        error_value = 'TN'\n",
    "    if row['SeriousDlqin2yrs'] == 1 and row['MyPrediction'] == 1:\n",
    "        error_value = 'TP'\n",
    "    if row['SeriousDlqin2yrs'] == 1 and row['MyPrediction'] == 0:\n",
    "        error_value = 'FN'\n",
    "    if row['SeriousDlqin2yrs'] == 0 and row['MyPrediction'] == 1:\n",
    "        error_value = 'FP'\n",
    "    return error_value\n",
    "\n",
    "data['error'] = data.apply(confusion, axis = 1)\n",
    "data.to_csv('../handson-ml2/kaggle-give-me-credit-Deepenet_confusion.csv', index=False)"
   ]
  },
  {
   "cell_type": "code",
   "execution_count": null,
   "metadata": {
    "scrolled": true
   },
   "outputs": [],
   "source": [
    "data = read_csv('../handson-ml2/kaggle-give-me-credit-Deepenet_confusion.csv')\n",
    "data"
   ]
  },
  {
   "cell_type": "markdown",
   "metadata": {},
   "source": [
    "*<center> Mesurer l'accuracy, compter les différentes erreurs, et construire une matrice de confusion</center>*"
   ]
  },
  {
   "cell_type": "code",
   "execution_count": null,
   "metadata": {},
   "outputs": [],
   "source": [
    "accuracy = (TN+TP)/(TP+TN+FP+FN)\n",
    "accuracy"
   ]
  },
  {
   "cell_type": "code",
   "execution_count": null,
   "metadata": {},
   "outputs": [],
   "source": [
    "matrice = df['error'].value_counts()\n",
    "matrice"
   ]
  },
  {
   "cell_type": "code",
   "execution_count": null,
   "metadata": {},
   "outputs": [],
   "source": [
    "df = pd.DataFrame(df, columns=['SeriousDlqin2yrs','MyPrediction'])\n",
    "\n",
    "confusion_matrix = pd.crosstab(df['SeriousDlqin2yrs'], df['MyPrediction'], rownames=['Actual'], colnames=['Predicted'])\n",
    "print (confusion_matrix)"
   ]
  },
  {
   "cell_type": "markdown",
   "metadata": {},
   "source": [
    "*<center> Calculer le gain à partir d'un seuil </center>*"
   ]
  },
  {
   "cell_type": "code",
   "execution_count": null,
   "metadata": {},
   "outputs": [],
   "source": [
    "def gain_seuil(seuil):\n",
    "    def seuil_pred(row, seuil):\n",
    "        if row['1 probability'] > seuil and row['SeriousDlqin2yrs'] == 0:\n",
    "            row['error'] = 'FP'\n",
    "        if row['1 probability'] > seuil and row['SeriousDlqin2yrs'] == 1:\n",
    "            row['error'] = 'TP'\n",
    "        if row['1 probability'] < seuil and row['SeriousDlqin2yrs'] == 0:\n",
    "            row['error'] = 'TN'\n",
    "        if row['1 probability'] < seuil and row['SeriousDlqin2yrs'] == 1:\n",
    "            row['error'] = 'FN'\n",
    "        return row\n",
    "\n",
    "    for dataframe in [df]:\n",
    "        dataframe['error'] = df[['error', '1 probability', 'SeriousDlqin2yrs']].apply(seuil_pred, axis=1, seuil = seuil)\n",
    "\n",
    "    count = dataframe['error'].value_counts()\n",
    "    gain = 1\n",
    "    if \"TP\" not in  dataframe['error']:\n",
    "        if \"FP\" not in  dataframe['error']:\n",
    "            gain = count[0]*500 - count[1]*2500\n",
    "        else:\n",
    "            gain = count[0]*500 - count[1]*2500 - count[3]*500\n",
    "    else:\n",
    "        gain = count[0]*500 - count[1]*2500 - count[2]*500\n",
    "\n",
    "    return gain"
   ]
  },
  {
   "cell_type": "code",
   "execution_count": null,
   "metadata": {},
   "outputs": [],
   "source": [
    "%matplotlib inline"
   ]
  },
  {
   "cell_type": "code",
   "execution_count": null,
   "metadata": {},
   "outputs": [],
   "source": [
    "table = [gain_seuil(n/100) for n in range(1,100)]\n",
    "seuil = [(n/100) for n in range(1,100)]\n",
    "plt.plot(table)\n",
    "plt.ylabel(\"Seuil\")\n",
    "plt.xlabel(\"Gain\")\n",
    "plt.title('Gain maximisé')\n",
    "max_val = max(table)\n",
    "max_threshold = table.index(max_val)\n",
    "print(f'Le gain maximum est {max_val} et il est obtenu avec un seuil de {max_threshold}')"
   ]
  },
  {
   "cell_type": "markdown",
   "metadata": {},
   "source": [
    "*<center> Récupérer les 100 plus grosses erreurs </center>*"
   ]
  },
  {
   "cell_type": "code",
   "execution_count": null,
   "metadata": {},
   "outputs": [],
   "source": [
    "df['absolute_error'] = (df['1 probability']-df['SeriousDlqin2yrs']).abs()\n",
    "desc_order = df.sort_values(by='absolute_error', ascending = False).head(100)\n",
    "desc_order.to_csv('../handson-ml2/100error.csv', index=False)"
   ]
  },
  {
   "cell_type": "markdown",
   "metadata": {},
   "source": [
    "*<center> Calculer l'AUC </center>*"
   ]
  },
  {
   "cell_type": "code",
   "execution_count": null,
   "metadata": {},
   "outputs": [],
   "source": [
    "from sklearn.metrics import roc_curve, auc, roc_auc_score\n",
    "score = roc_auc_score(df['SeriousDlqin2yrs'].values,df['1 probability'].values)\n",
    "print(score)"
   ]
  },
  {
   "cell_type": "code",
   "execution_count": null,
   "metadata": {},
   "outputs": [],
   "source": [
    "positif = df.loc[df['SeriousDlqin2yrs'] == 1] # Tout les Positif \n",
    "negatif = df.loc[df['SeriousDlqin2yrs'] == 0] # Tout les negatifs \n",
    "\n",
    "x = 0\n",
    "y = 0\n",
    "# pour chaque 1 proba ( P ) dans toutes les 1 proba (P)\n",
    "for threshold_pos in positif['1 probability']:\n",
    "    # pour chaque 1 Proba ( N ) dans toutes les 1 proba ( N )\n",
    "    for threshold_neg in negatif['1 probability']:\n",
    "        if threshold_pos > threshold_neg:\n",
    "            x += 1 \n",
    "        y += 1 \n",
    "print(f\"L'AUC est égale à {round((x/y)*100,2)}%\")"
   ]
  },
  {
   "cell_type": "code",
   "execution_count": null,
   "metadata": {},
   "outputs": [],
   "source": [
    "nombre_supérieur = 0\n",
    "nombre_iteration = 0\n",
    "serie = df.transpose() # here we convert the DataFrame into a Serie\n",
    "for ligne in serie:\n",
    "    if serie[ligne]['SeriousDlqin2yrs'] == 1: \n",
    "        proba_positif = serie[ligne]['1 probability'] # On stocke la valeur de 1 probability à la variable proba_positif\n",
    "        for ligne_neg in serie: \n",
    "            if serie[ligne_neg]['SeriousDlqin2yrs'] == 0:\n",
    "                if proba_positif > serie[ligne_neg]['1 probability']: # Si la valeur de proba_positif est inférieure à la valeur de 1 probability\n",
    "                    nombre_supérieur += 1 # On incrémente la valeur de 1\n",
    "                nombre_iteration += 1 # On incrémente le nombre de boucle total (dénominateur pour le calcul de l'AUC)\n",
    "\n",
    "print(nombre_supérieur)\n",
    "print(nombre_iteration)\n",
    "print(f\"{nombre_supérieur/nombre_iteration}\")"
   ]
  },
  {
   "cell_type": "markdown",
   "metadata": {},
   "source": [
    "*<center> Tracer la courbe ROC </center>*"
   ]
  },
  {
   "cell_type": "code",
   "execution_count": null,
   "metadata": {},
   "outputs": [],
   "source": [
    "df = read_csv('../handson-ml2/kaggle-give-me-credit-train_confusion.csv')\n",
    "#False positive rate\n",
    "fpr = []\n",
    "# True positive rate\n",
    "tpr = []\n",
    "\n",
    "thresh = [(n/100) for n in range(0,100)]\n",
    "\n",
    "count = df['error'].value_counts()\n",
    "number_of_positive = count[2] + count[1]\n",
    "number_of_negative = count[3] + count[0]\n",
    "\n",
    "for t in thresh:\n",
    "    FP = 0\n",
    "    TP = 0\n",
    "    for i in range(len(df['1 probability'])):\n",
    "        if (df['1 probability'][i]>t):\n",
    "            if df['SeriousDlqin2yrs'][i] == 1:\n",
    "                TP = TP + 1\n",
    "            if df['SeriousDlqin2yrs'][i] == 0:\n",
    "                FP = FP + 1\n",
    "    fpr.append(FP/float(number_of_negative))\n",
    "    tpr.append(TP/float(number_of_positive))\n",
    "\n",
    "plt.plot(fpr,tpr)\n",
    "plt.ylabel(\"True positive rate\")\n",
    "plt.xlabel(\"False positive rate\")\n",
    "plt.plot([0, 1], [0, 1], color='darkblue', linestyle='--')\n",
    "plt.title('Receiver Operating Characteristic (ROC) Curve')\n",
    "plt.show()"
   ]
  }
 ],
 "metadata": {
  "kernelspec": {
   "display_name": "Python 3",
   "language": "python",
   "name": "python3"
  },
  "language_info": {
   "codemirror_mode": {
    "name": "ipython",
    "version": 3
   },
   "file_extension": ".py",
   "mimetype": "text/x-python",
   "name": "python",
   "nbconvert_exporter": "python",
   "pygments_lexer": "ipython3",
   "version": "3.7.3"
  }
 },
 "nbformat": 4,
 "nbformat_minor": 2
}
