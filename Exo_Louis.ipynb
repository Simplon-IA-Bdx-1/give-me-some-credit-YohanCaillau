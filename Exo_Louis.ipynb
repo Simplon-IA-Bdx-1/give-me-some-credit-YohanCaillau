{
 "cells": [
  {
   "cell_type": "markdown",
   "metadata": {},
   "source": [
    "## Exercice individuel: création de prédiction sur un seul input"
   ]
  },
  {
   "cell_type": "markdown",
   "metadata": {},
   "source": [
    "Importer les données"
   ]
  },
  {
   "cell_type": "code",
   "execution_count": 1,
   "metadata": {},
   "outputs": [],
   "source": [
    "from pandas import read_csv\n",
    "from bigml.api import BigML\n",
    "import pandas as pd\n",
    "df = read_csv('../handson-ml2/exo.csv', index_col=0)\n",
    "trainfull = read_csv('trainfull.csv', index_col=0)"
   ]
  },
  {
   "cell_type": "code",
   "execution_count": 2,
   "metadata": {},
   "outputs": [],
   "source": [
    "api = BigML(project= 'project/5d94a407eba31d45c8000088')"
   ]
  },
  {
   "cell_type": "code",
   "execution_count": 3,
   "metadata": {},
   "outputs": [],
   "source": [
    "# Intitialise lists data. \n",
    "data = [{'Id': 1,\n",
    "         'RevolvingUtilizationOfUnsecuredLines': 0.01703559, \n",
    "         'age': 42, \n",
    "         'NumberOfTime30-59DaysPastDueNotWorse': 1, \n",
    "         'DebtRatio': 0, \n",
    "         'MonthlyIncome': 0, \n",
    "         'NumberOfOpenCreditLinesAndLoans': 6, \n",
    "         'NumberOfTimes90DaysLate': 0, \n",
    "         'NumberRealEstateLoansOrLines': 1, \n",
    "         'NumberOfTime60-89DaysPastDueNotWorse': 0, \n",
    "         'NumberOfDependents': 1,\n",
    "         'SeriousDlqin2yrs': 0,\n",
    "         'IncomePerPerson': 0, \n",
    "         'NumberOfDaysLate': 1, \n",
    "         'NumberCreditLines': 5, \n",
    "         'MonthlyDebt': 0, \n",
    "         'MonthlyBalance': 0}]"
   ]
  },
  {
   "cell_type": "code",
   "execution_count": 4,
   "metadata": {},
   "outputs": [
    {
     "data": {
      "text/html": [
       "<div>\n",
       "<style scoped>\n",
       "    .dataframe tbody tr th:only-of-type {\n",
       "        vertical-align: middle;\n",
       "    }\n",
       "\n",
       "    .dataframe tbody tr th {\n",
       "        vertical-align: top;\n",
       "    }\n",
       "\n",
       "    .dataframe thead th {\n",
       "        text-align: right;\n",
       "    }\n",
       "</style>\n",
       "<table border=\"1\" class=\"dataframe\">\n",
       "  <thead>\n",
       "    <tr style=\"text-align: right;\">\n",
       "      <th></th>\n",
       "      <th>Id</th>\n",
       "      <th>RevolvingUtilizationOfUnsecuredLines</th>\n",
       "      <th>age</th>\n",
       "      <th>NumberOfTime30-59DaysPastDueNotWorse</th>\n",
       "      <th>DebtRatio</th>\n",
       "      <th>MonthlyIncome</th>\n",
       "      <th>NumberOfOpenCreditLinesAndLoans</th>\n",
       "      <th>NumberOfTimes90DaysLate</th>\n",
       "      <th>NumberRealEstateLoansOrLines</th>\n",
       "      <th>NumberOfTime60-89DaysPastDueNotWorse</th>\n",
       "      <th>NumberOfDependents</th>\n",
       "      <th>SeriousDlqin2yrs</th>\n",
       "      <th>IncomePerPerson</th>\n",
       "      <th>NumberOfDaysLate</th>\n",
       "      <th>NumberCreditLines</th>\n",
       "      <th>MonthlyDebt</th>\n",
       "      <th>MonthlyBalance</th>\n",
       "    </tr>\n",
       "  </thead>\n",
       "  <tbody>\n",
       "    <tr>\n",
       "      <td>0</td>\n",
       "      <td>1</td>\n",
       "      <td>0.017036</td>\n",
       "      <td>42</td>\n",
       "      <td>1</td>\n",
       "      <td>0</td>\n",
       "      <td>0</td>\n",
       "      <td>6</td>\n",
       "      <td>0</td>\n",
       "      <td>1</td>\n",
       "      <td>0</td>\n",
       "      <td>1</td>\n",
       "      <td>0</td>\n",
       "      <td>0</td>\n",
       "      <td>1</td>\n",
       "      <td>5</td>\n",
       "      <td>0</td>\n",
       "      <td>0</td>\n",
       "    </tr>\n",
       "  </tbody>\n",
       "</table>\n",
       "</div>"
      ],
      "text/plain": [
       "   Id  RevolvingUtilizationOfUnsecuredLines  age  \\\n",
       "0   1                              0.017036   42   \n",
       "\n",
       "   NumberOfTime30-59DaysPastDueNotWorse  DebtRatio  MonthlyIncome  \\\n",
       "0                                     1          0              0   \n",
       "\n",
       "   NumberOfOpenCreditLinesAndLoans  NumberOfTimes90DaysLate  \\\n",
       "0                                6                        0   \n",
       "\n",
       "   NumberRealEstateLoansOrLines  NumberOfTime60-89DaysPastDueNotWorse  \\\n",
       "0                             1                                     0   \n",
       "\n",
       "   NumberOfDependents  SeriousDlqin2yrs  IncomePerPerson  NumberOfDaysLate  \\\n",
       "0                   1                 0                0                 1   \n",
       "\n",
       "   NumberCreditLines  MonthlyDebt  MonthlyBalance  \n",
       "0                  5            0               0  "
      ]
     },
     "execution_count": 4,
     "metadata": {},
     "output_type": "execute_result"
    }
   ],
   "source": [
    "df_test = pd.DataFrame(data, columns = ['Id',\n",
    " 'RevolvingUtilizationOfUnsecuredLines',\n",
    " 'age',\n",
    " 'NumberOfTime30-59DaysPastDueNotWorse',\n",
    " 'DebtRatio',\n",
    " 'MonthlyIncome',\n",
    " 'NumberOfOpenCreditLinesAndLoans',\n",
    " 'NumberOfTimes90DaysLate',\n",
    " 'NumberRealEstateLoansOrLines',\n",
    " 'NumberOfTime60-89DaysPastDueNotWorse',\n",
    " 'NumberOfDependents',\n",
    " 'SeriousDlqin2yrs',\n",
    " 'IncomePerPerson',\n",
    " 'NumberOfDaysLate',\n",
    " 'NumberCreditLines',\n",
    " 'MonthlyDebt',\n",
    " 'MonthlyBalance'])\n",
    "df_test"
   ]
  },
  {
   "cell_type": "code",
   "execution_count": 5,
   "metadata": {},
   "outputs": [
    {
     "data": {
      "text/html": [
       "<div>\n",
       "<style scoped>\n",
       "    .dataframe tbody tr th:only-of-type {\n",
       "        vertical-align: middle;\n",
       "    }\n",
       "\n",
       "    .dataframe tbody tr th {\n",
       "        vertical-align: top;\n",
       "    }\n",
       "\n",
       "    .dataframe thead th {\n",
       "        text-align: right;\n",
       "    }\n",
       "</style>\n",
       "<table border=\"1\" class=\"dataframe\">\n",
       "  <thead>\n",
       "    <tr style=\"text-align: right;\">\n",
       "      <th></th>\n",
       "      <th>Id</th>\n",
       "      <th>RevolvingUtilizationOfUnsecuredLines</th>\n",
       "      <th>age</th>\n",
       "      <th>NumberOfTime30-59DaysPastDueNotWorse</th>\n",
       "      <th>DebtRatio</th>\n",
       "      <th>MonthlyIncome</th>\n",
       "      <th>NumberOfOpenCreditLinesAndLoans</th>\n",
       "      <th>NumberOfTimes90DaysLate</th>\n",
       "      <th>NumberRealEstateLoansOrLines</th>\n",
       "      <th>NumberOfTime60-89DaysPastDueNotWorse</th>\n",
       "      <th>NumberOfDependents</th>\n",
       "      <th>SeriousDlqin2yrs</th>\n",
       "      <th>IncomePerPerson</th>\n",
       "      <th>NumberOfDaysLate</th>\n",
       "      <th>NumberCreditLines</th>\n",
       "      <th>MonthlyDebt</th>\n",
       "      <th>MonthlyBalance</th>\n",
       "    </tr>\n",
       "  </thead>\n",
       "  <tbody>\n",
       "    <tr>\n",
       "      <td>0</td>\n",
       "      <td>1</td>\n",
       "      <td>0.017036</td>\n",
       "      <td>42</td>\n",
       "      <td>1</td>\n",
       "      <td>0</td>\n",
       "      <td>0</td>\n",
       "      <td>6</td>\n",
       "      <td>0</td>\n",
       "      <td>1</td>\n",
       "      <td>0</td>\n",
       "      <td>1</td>\n",
       "      <td>0</td>\n",
       "      <td>0</td>\n",
       "      <td>1</td>\n",
       "      <td>5</td>\n",
       "      <td>0</td>\n",
       "      <td>0</td>\n",
       "    </tr>\n",
       "  </tbody>\n",
       "</table>\n",
       "</div>"
      ],
      "text/plain": [
       "   Id  RevolvingUtilizationOfUnsecuredLines  age  \\\n",
       "0   1                              0.017036   42   \n",
       "\n",
       "   NumberOfTime30-59DaysPastDueNotWorse  DebtRatio  MonthlyIncome  \\\n",
       "0                                     1          0              0   \n",
       "\n",
       "   NumberOfOpenCreditLinesAndLoans  NumberOfTimes90DaysLate  \\\n",
       "0                                6                        0   \n",
       "\n",
       "   NumberRealEstateLoansOrLines  NumberOfTime60-89DaysPastDueNotWorse  \\\n",
       "0                             1                                     0   \n",
       "\n",
       "   NumberOfDependents  SeriousDlqin2yrs  IncomePerPerson  NumberOfDaysLate  \\\n",
       "0                   1                 0                0                 1   \n",
       "\n",
       "   NumberCreditLines  MonthlyDebt  MonthlyBalance  \n",
       "0                  5            0               0  "
      ]
     },
     "execution_count": 5,
     "metadata": {},
     "output_type": "execute_result"
    }
   ],
   "source": [
    "df_test['NumberOfDaysLate'] = df_test['NumberOfTimes90DaysLate']+ df_test['NumberOfTime60-89DaysPastDueNotWorse']+ df_test['NumberOfTime30-59DaysPastDueNotWorse']\n",
    "df_test['NumberCreditLines'] = df_test['NumberOfOpenCreditLinesAndLoans']- df_test['NumberRealEstateLoansOrLines']\n",
    "df_test"
   ]
  },
  {
   "cell_type": "code",
   "execution_count": 6,
   "metadata": {},
   "outputs": [],
   "source": [
    "df_test.to_csv(\"exotest.csv\")"
   ]
  },
  {
   "cell_type": "markdown",
   "metadata": {},
   "source": [
    "Préparation de l'array d'output pour le train"
   ]
  },
  {
   "cell_type": "code",
   "execution_count": 7,
   "metadata": {},
   "outputs": [
    {
     "name": "stdout",
     "output_type": "stream",
     "text": [
      "[1 0 0 ... 0 0 0]\n"
     ]
    }
   ],
   "source": [
    "target_column = 'SeriousDlqin2yrs'\n",
    "y_train = trainfull[target_column].values\n",
    "print(y_train)"
   ]
  },
  {
   "cell_type": "markdown",
   "metadata": {},
   "source": [
    "Préparation de l'array d'input pour le train"
   ]
  },
  {
   "cell_type": "code",
   "execution_count": 8,
   "metadata": {},
   "outputs": [
    {
     "name": "stdout",
     "output_type": "stream",
     "text": [
      "array([[1.00000000e+00, 7.66126609e-01, 4.50000000e+01, ...,\n",
      "        7.00000000e+00, 7.32319702e+03, 1.79680298e+03],\n",
      "       [2.00000000e+00, 9.57151019e-01, 4.00000000e+01, ...,\n",
      "        4.00000000e+00, 3.16878123e+02, 2.28312188e+03],\n",
      "       [3.00000000e+00, 6.58180140e-01, 3.80000000e+01, ...,\n",
      "        2.00000000e+00, 2.58914887e+02, 2.78308511e+03],\n",
      "       ...,\n",
      "       [1.49998000e+05, 2.46043918e-01, 5.80000000e+01, ...,\n",
      "        1.70000000e+01, 0.00000000e+00, 0.00000000e+00],\n",
      "       [1.49999000e+05, 0.00000000e+00, 3.00000000e+01, ...,\n",
      "        4.00000000e+00, 0.00000000e+00, 5.71600000e+03],\n",
      "       [1.50000000e+05, 8.50282951e-01, 6.40000000e+01, ...,\n",
      "        6.00000000e+00, 2.03875009e+03, 6.11924991e+03]])\n"
     ]
    }
   ],
   "source": [
    "from pprint import pprint\n",
    "X_train = trainfull.drop(target_column, axis=1).values\n",
    "pprint(X_train)"
   ]
  },
  {
   "cell_type": "markdown",
   "metadata": {},
   "source": [
    "Même chose pour le test"
   ]
  },
  {
   "cell_type": "code",
   "execution_count": 9,
   "metadata": {},
   "outputs": [
    {
     "name": "stdout",
     "output_type": "stream",
     "text": [
      "array([[1.000000e+00, 1.703559e-02, 4.200000e+01, 1.000000e+00,\n",
      "        0.000000e+00, 0.000000e+00, 6.000000e+00, 0.000000e+00,\n",
      "        1.000000e+00, 0.000000e+00, 1.000000e+00, 0.000000e+00,\n",
      "        1.000000e+00, 5.000000e+00, 0.000000e+00, 0.000000e+00]])\n"
     ]
    }
   ],
   "source": [
    "X_test = df_test.drop(target_column, axis=1).values\n",
    "y_test = df_test[target_column].values\n",
    "pprint(X_test)"
   ]
  },
  {
   "cell_type": "code",
   "execution_count": 12,
   "metadata": {},
   "outputs": [
    {
     "name": "stdout",
     "output_type": "stream",
     "text": [
      "1.0\n",
      "[0.0449454]\n"
     ]
    }
   ],
   "source": [
    "import pickle\n",
    "from xgboost import XGBClassifier\n",
    "filename = 'finalized_model.sav'\n",
    "loaded_model = pickle.load(open(filename, 'rb')) # Récupérer le modèle entrainé\n",
    "result = loaded_model.score(X_test, y_test)\n",
    "print(result)\n",
    "y_test_proba = loaded_model.predict_proba(X_test)[:,1]\n",
    "print(y_test_proba)"
   ]
  },
  {
   "cell_type": "markdown",
   "metadata": {},
   "source": [
    "Probabilité de défaut de remboursement = 4,5%, par contre bizarrement le modèle aurait prédit un 1 bien que la probabilité de 1 soit très petite."
   ]
  }
 ],
 "metadata": {
  "kernelspec": {
   "display_name": "Python 3",
   "language": "python",
   "name": "python3"
  },
  "language_info": {
   "codemirror_mode": {
    "name": "ipython",
    "version": 3
   },
   "file_extension": ".py",
   "mimetype": "text/x-python",
   "name": "python",
   "nbconvert_exporter": "python",
   "pygments_lexer": "ipython3",
   "version": "3.7.3"
  }
 },
 "nbformat": 4,
 "nbformat_minor": 2
}
