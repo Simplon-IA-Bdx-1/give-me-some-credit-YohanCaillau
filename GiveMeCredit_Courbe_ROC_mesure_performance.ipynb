{
 "cells": [
  {
   "cell_type": "markdown",
   "metadata": {},
   "source": [
    "# <center> Tracer la courbe ROC et test pour la Learning Curve </center>"
   ]
  },
  {
   "cell_type": "code",
   "execution_count": null,
   "metadata": {},
   "outputs": [],
   "source": [
    "from bigml.api import BigML\n",
    "from pandas import read_csv\n",
    "import matplotlib.pyplot as plt\n",
    "import pandas as pd"
   ]
  },
  {
   "cell_type": "code",
   "execution_count": null,
   "metadata": {},
   "outputs": [],
   "source": [
    "api = BigML(project= 'project/5d94a407eba31d45c8000088')"
   ]
  },
  {
   "cell_type": "code",
   "execution_count": null,
   "metadata": {
    "scrolled": true
   },
   "outputs": [],
   "source": [
    "df = read_csv('../handson-ml2/kaggle-give-me-credit-Ensemble_confusion.csv')\n",
    "df"
   ]
  },
  {
   "cell_type": "code",
   "execution_count": null,
   "metadata": {
    "scrolled": true
   },
   "outputs": [],
   "source": [
    "data = read_csv('../handson-ml2/kaggle-give-me-credit-Deepenet_confusion.csv')\n",
    "data"
   ]
  },
  {
   "cell_type": "markdown",
   "metadata": {},
   "source": [
    "## Tracer la ROC"
   ]
  },
  {
   "cell_type": "code",
   "execution_count": null,
   "metadata": {},
   "outputs": [],
   "source": [
    "import time\n",
    "#Timer le code\n",
    "start = time.time()\n",
    "#False positive rate\n",
    "fpr = []\n",
    "# True positive rate\n",
    "tpr = []\n",
    "\n",
    "thresh = [(n/100) for n in range(0,100)]\n",
    "\n",
    "count = df['error'].value_counts()\n",
    "number_of_positive = count[2] + count[1]\n",
    "number_of_negative = count[3] + count[0]\n",
    "\n",
    "for t in thresh:\n",
    "    FP = 0\n",
    "    TP = 0\n",
    "    for i in range(len(df['1 probability'])):\n",
    "        if (df['1 probability'][i]>t):\n",
    "            if df['SeriousDlqin2yrs'][i] == 1:\n",
    "                TP = TP + 1\n",
    "            if df['SeriousDlqin2yrs'][i] == 0:\n",
    "                FP = FP + 1\n",
    "    fpr.append(FP/float(number_of_negative))\n",
    "    tpr.append(TP/float(number_of_positive))\n",
    "stop = time.time()\n",
    "print(stop-start)\n",
    "plt.plot(fpr,tpr)\n",
    "plt.ylabel(\"True positive rate\")\n",
    "plt.xlabel(\"False positive rate\")\n",
    "plt.plot([0, 1], [0, 1], color='darkblue', linestyle='--')\n",
    "plt.title('Receiver Operating Characteristic (ROC) Curve')\n",
    "plt.show()"
   ]
  },
  {
   "cell_type": "markdown",
   "metadata": {},
   "source": [
    "## Test pour la learning Curve"
   ]
  },
  {
   "cell_type": "code",
   "execution_count": null,
   "metadata": {},
   "outputs": [],
   "source": [
    "X = []\n",
    "Y = []\n",
    "\n",
    "m = 0\n",
    "n = 0\n",
    "\n",
    "for i in range(0,100): \n",
    "    # On crée le nouveau dataset de train à partir du dataset de train initial\n",
    "    df_split = df.head(int(len(df)*((i+10)/100)))\n",
    "    positif = df_split.loc[df_split['SeriousDlqin2yrs'] == 1] \n",
    "    negatif = df_split.loc[df_split['SeriousDlqin2yrs'] == 0]\n",
    "    for threshold_pos in positif['1 probability']:\n",
    "        for threshold_neg in negatif['1 probability']:\n",
    "            if threshold_pos > threshold_neg:\n",
    "                m += 1 \n",
    "            n += 1\n",
    "            AUC = round((m/n)*100,2)\n",
    "    # On stocke dans une liste la valeur de l'axe des abscisses et la valeur de l'AUC à partir de la donnée BigML\n",
    "    X.append(i)\n",
    "    Y.append(AUC)\n",
    "    \n",
    "\n",
    "fig, ax = plt.subplots()\n",
    "ax.plot(X, Y)\n",
    "ax.set(xlabel='Taille du dataset train en %', ylabel='AUC',  title='Learning Curve (AUC / % Split)')\n",
    "plt.show()"
   ]
  },
  {
   "cell_type": "code",
   "execution_count": null,
   "metadata": {},
   "outputs": [],
   "source": [
    "X_deepnet = []\n",
    "Y_deepnet = []\n",
    "\n",
    "m_deepnet = 0\n",
    "n_deepnet = 0\n",
    "\n",
    "for i_deepnet in range(0,100): \n",
    "    # On crée le nouveau dataset de train à partir du dataset de train initial\n",
    "    data_split = data.head(int(len(data)*((i_deepnet+10)/100)))\n",
    "    positif = data_split.loc[data_split['SeriousDlqin2yrs'] == 1] \n",
    "    negatif = data_split.loc[data_split['SeriousDlqin2yrs'] == 0]\n",
    "    for threshold_pos in positif['1 probability']:\n",
    "        for threshold_neg in negatif['1 probability']:\n",
    "            if threshold_pos > threshold_neg:\n",
    "                m_deepnet += 1 \n",
    "            n_deepnet += 1\n",
    "            AUC_deepnet = round((m_deepnet/n_deepnet)*100,2)\n",
    "    # On stocke dans une liste la valeur de l'axe des abscisses et la valeur de l'AUC à partir de la donnée BigML\n",
    "    X_deepnet.append(i_deepnet)\n",
    "    Y_deepnet.append(AUC_deepnet)\n",
    "    \n",
    "\n",
    "fig, ax = plt.subplots()\n",
    "ax.plot(X_deepnet, Y_deepnet)\n",
    "ax.set(xlabel='Taille du dataset Train', ylabel='AUC',  title='Performance Curve (AUC / % Split)')\n",
    "plt.show()"
   ]
  },
  {
   "cell_type": "code",
   "execution_count": null,
   "metadata": {},
   "outputs": [],
   "source": [
    "plt.plot(X, Y, color='darkblue')\n",
    "plt.text(80,86,'Ensemble', color='darkblue')\n",
    "plt.ylabel('AUC')\n",
    "plt.xlabel('Taille du dataset train en %')\n",
    "plt.plot(X_deepnet, Y_deepnet, color='red')\n",
    "plt.text(80,83.5,'Deepnet', color='red')\n",
    "plt.title('Performance Curve')\n",
    "plt.show()\n",
    "plt.savefig(\"Courbe de Performance.png\")"
   ]
  }
 ],
 "metadata": {
  "kernelspec": {
   "display_name": "Python 3",
   "language": "python",
   "name": "python3"
  },
  "language_info": {
   "codemirror_mode": {
    "name": "ipython",
    "version": 3
   },
   "file_extension": ".py",
   "mimetype": "text/x-python",
   "name": "python",
   "nbconvert_exporter": "python",
   "pygments_lexer": "ipython3",
   "version": "3.7.3"
  }
 },
 "nbformat": 4,
 "nbformat_minor": 2
}
